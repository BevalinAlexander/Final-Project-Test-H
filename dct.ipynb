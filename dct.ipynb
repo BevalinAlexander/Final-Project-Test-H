{
 "cells": [
  {
   "cell_type": "code",
   "execution_count": 35,
   "id": "146168fd-4bc0-4e26-a065-0d3c294567cb",
   "metadata": {},
   "outputs": [],
   "source": [
    "import numpy as np\n",
    "import pandas as pd\n",
    "import matplotlib.pyplot as plt\n",
    "import pyspark\n",
    "import pyspark.sql.functions "
   ]
  },
  {
   "cell_type": "code",
   "execution_count": 36,
   "id": "33511d2d-3aa1-45ce-a51a-8be6330c466c",
   "metadata": {},
   "outputs": [],
   "source": [
    "# read in data to pandas\n",
    "fake = pd.read_csv('fake.csv')\n",
    "news = pd.read_csv('true.csv')"
   ]
  },
  {
   "cell_type": "code",
   "execution_count": 37,
   "id": "81ceeed3-f81e-42f8-ab89-7c98c97a47db",
   "metadata": {},
   "outputs": [
    {
     "data": {
      "text/html": [
       "<div>\n",
       "<style scoped>\n",
       "    .dataframe tbody tr th:only-of-type {\n",
       "        vertical-align: middle;\n",
       "    }\n",
       "\n",
       "    .dataframe tbody tr th {\n",
       "        vertical-align: top;\n",
       "    }\n",
       "\n",
       "    .dataframe thead th {\n",
       "        text-align: right;\n",
       "    }\n",
       "</style>\n",
       "<table border=\"1\" class=\"dataframe\">\n",
       "  <thead>\n",
       "    <tr style=\"text-align: right;\">\n",
       "      <th></th>\n",
       "      <th>title</th>\n",
       "      <th>text</th>\n",
       "      <th>subject</th>\n",
       "      <th>date</th>\n",
       "    </tr>\n",
       "  </thead>\n",
       "  <tbody>\n",
       "    <tr>\n",
       "      <th>0</th>\n",
       "      <td>As U.S. budget fight looms, Republicans flip t...</td>\n",
       "      <td>WASHINGTON (Reuters) - The head of a conservat...</td>\n",
       "      <td>politicsNews</td>\n",
       "      <td>December 31, 2017</td>\n",
       "    </tr>\n",
       "    <tr>\n",
       "      <th>1</th>\n",
       "      <td>U.S. military to accept transgender recruits o...</td>\n",
       "      <td>WASHINGTON (Reuters) - Transgender people will...</td>\n",
       "      <td>politicsNews</td>\n",
       "      <td>December 29, 2017</td>\n",
       "    </tr>\n",
       "    <tr>\n",
       "      <th>2</th>\n",
       "      <td>Senior U.S. Republican senator: 'Let Mr. Muell...</td>\n",
       "      <td>WASHINGTON (Reuters) - The special counsel inv...</td>\n",
       "      <td>politicsNews</td>\n",
       "      <td>December 31, 2017</td>\n",
       "    </tr>\n",
       "    <tr>\n",
       "      <th>3</th>\n",
       "      <td>FBI Russia probe helped by Australian diplomat...</td>\n",
       "      <td>WASHINGTON (Reuters) - Trump campaign adviser ...</td>\n",
       "      <td>politicsNews</td>\n",
       "      <td>December 30, 2017</td>\n",
       "    </tr>\n",
       "    <tr>\n",
       "      <th>4</th>\n",
       "      <td>Trump wants Postal Service to charge 'much mor...</td>\n",
       "      <td>SEATTLE/WASHINGTON (Reuters) - President Donal...</td>\n",
       "      <td>politicsNews</td>\n",
       "      <td>December 29, 2017</td>\n",
       "    </tr>\n",
       "    <tr>\n",
       "      <th>...</th>\n",
       "      <td>...</td>\n",
       "      <td>...</td>\n",
       "      <td>...</td>\n",
       "      <td>...</td>\n",
       "    </tr>\n",
       "    <tr>\n",
       "      <th>21412</th>\n",
       "      <td>'Fully committed' NATO backs new U.S. approach...</td>\n",
       "      <td>BRUSSELS (Reuters) - NATO allies on Tuesday we...</td>\n",
       "      <td>worldnews</td>\n",
       "      <td>August 22, 2017</td>\n",
       "    </tr>\n",
       "    <tr>\n",
       "      <th>21413</th>\n",
       "      <td>LexisNexis withdrew two products from Chinese ...</td>\n",
       "      <td>LONDON (Reuters) - LexisNexis, a provider of l...</td>\n",
       "      <td>worldnews</td>\n",
       "      <td>August 22, 2017</td>\n",
       "    </tr>\n",
       "    <tr>\n",
       "      <th>21414</th>\n",
       "      <td>Minsk cultural hub becomes haven from authorities</td>\n",
       "      <td>MINSK (Reuters) - In the shadow of disused Sov...</td>\n",
       "      <td>worldnews</td>\n",
       "      <td>August 22, 2017</td>\n",
       "    </tr>\n",
       "    <tr>\n",
       "      <th>21415</th>\n",
       "      <td>Vatican upbeat on possibility of Pope Francis ...</td>\n",
       "      <td>MOSCOW (Reuters) - Vatican Secretary of State ...</td>\n",
       "      <td>worldnews</td>\n",
       "      <td>August 22, 2017</td>\n",
       "    </tr>\n",
       "    <tr>\n",
       "      <th>21416</th>\n",
       "      <td>Indonesia to buy $1.14 billion worth of Russia...</td>\n",
       "      <td>JAKARTA (Reuters) - Indonesia will buy 11 Sukh...</td>\n",
       "      <td>worldnews</td>\n",
       "      <td>August 22, 2017</td>\n",
       "    </tr>\n",
       "  </tbody>\n",
       "</table>\n",
       "<p>21417 rows × 4 columns</p>\n",
       "</div>"
      ],
      "text/plain": [
       "                                                   title  \\\n",
       "0      As U.S. budget fight looms, Republicans flip t...   \n",
       "1      U.S. military to accept transgender recruits o...   \n",
       "2      Senior U.S. Republican senator: 'Let Mr. Muell...   \n",
       "3      FBI Russia probe helped by Australian diplomat...   \n",
       "4      Trump wants Postal Service to charge 'much mor...   \n",
       "...                                                  ...   \n",
       "21412  'Fully committed' NATO backs new U.S. approach...   \n",
       "21413  LexisNexis withdrew two products from Chinese ...   \n",
       "21414  Minsk cultural hub becomes haven from authorities   \n",
       "21415  Vatican upbeat on possibility of Pope Francis ...   \n",
       "21416  Indonesia to buy $1.14 billion worth of Russia...   \n",
       "\n",
       "                                                    text       subject  \\\n",
       "0      WASHINGTON (Reuters) - The head of a conservat...  politicsNews   \n",
       "1      WASHINGTON (Reuters) - Transgender people will...  politicsNews   \n",
       "2      WASHINGTON (Reuters) - The special counsel inv...  politicsNews   \n",
       "3      WASHINGTON (Reuters) - Trump campaign adviser ...  politicsNews   \n",
       "4      SEATTLE/WASHINGTON (Reuters) - President Donal...  politicsNews   \n",
       "...                                                  ...           ...   \n",
       "21412  BRUSSELS (Reuters) - NATO allies on Tuesday we...     worldnews   \n",
       "21413  LONDON (Reuters) - LexisNexis, a provider of l...     worldnews   \n",
       "21414  MINSK (Reuters) - In the shadow of disused Sov...     worldnews   \n",
       "21415  MOSCOW (Reuters) - Vatican Secretary of State ...     worldnews   \n",
       "21416  JAKARTA (Reuters) - Indonesia will buy 11 Sukh...     worldnews   \n",
       "\n",
       "                     date  \n",
       "0      December 31, 2017   \n",
       "1      December 29, 2017   \n",
       "2      December 31, 2017   \n",
       "3      December 30, 2017   \n",
       "4      December 29, 2017   \n",
       "...                   ...  \n",
       "21412    August 22, 2017   \n",
       "21413    August 22, 2017   \n",
       "21414    August 22, 2017   \n",
       "21415    August 22, 2017   \n",
       "21416    August 22, 2017   \n",
       "\n",
       "[21417 rows x 4 columns]"
      ]
     },
     "execution_count": 37,
     "metadata": {},
     "output_type": "execute_result"
    }
   ],
   "source": [
    "news"
   ]
  },
  {
   "cell_type": "code",
   "execution_count": 38,
   "id": "9602cc3a-0b3c-466d-993f-9bf659e92926",
   "metadata": {},
   "outputs": [
    {
     "data": {
      "text/plain": [
       "title      0\n",
       "text       0\n",
       "subject    0\n",
       "date       0\n",
       "dtype: int64"
      ]
     },
     "execution_count": 38,
     "metadata": {},
     "output_type": "execute_result"
    }
   ],
   "source": [
    "# check news for null values\n",
    "news.isna().sum()"
   ]
  },
  {
   "cell_type": "code",
   "execution_count": 39,
   "id": "c631f055-1f6d-4698-bc55-80a98e2a7cfb",
   "metadata": {},
   "outputs": [
    {
     "data": {
      "text/plain": [
       "politicsNews    11272\n",
       "worldnews       10145\n",
       "Name: subject, dtype: int64"
      ]
     },
     "execution_count": 39,
     "metadata": {},
     "output_type": "execute_result"
    }
   ],
   "source": [
    "# count the number of subjects in news\n",
    "news['subject'].value_counts()"
   ]
  },
  {
   "cell_type": "code",
   "execution_count": 40,
   "id": "0bdea217-cc4a-433e-96f1-e573e713fbe6",
   "metadata": {},
   "outputs": [
    {
     "data": {
      "text/html": [
       "<div>\n",
       "<style scoped>\n",
       "    .dataframe tbody tr th:only-of-type {\n",
       "        vertical-align: middle;\n",
       "    }\n",
       "\n",
       "    .dataframe tbody tr th {\n",
       "        vertical-align: top;\n",
       "    }\n",
       "\n",
       "    .dataframe thead th {\n",
       "        text-align: right;\n",
       "    }\n",
       "</style>\n",
       "<table border=\"1\" class=\"dataframe\">\n",
       "  <thead>\n",
       "    <tr style=\"text-align: right;\">\n",
       "      <th></th>\n",
       "      <th>title</th>\n",
       "      <th>text</th>\n",
       "      <th>subject</th>\n",
       "      <th>date</th>\n",
       "    </tr>\n",
       "  </thead>\n",
       "  <tbody>\n",
       "    <tr>\n",
       "      <th>0</th>\n",
       "      <td>Donald Trump Sends Out Embarrassing New Year’...</td>\n",
       "      <td>Donald Trump just couldn t wish all Americans ...</td>\n",
       "      <td>News</td>\n",
       "      <td>December 31, 2017</td>\n",
       "    </tr>\n",
       "    <tr>\n",
       "      <th>1</th>\n",
       "      <td>Drunk Bragging Trump Staffer Started Russian ...</td>\n",
       "      <td>House Intelligence Committee Chairman Devin Nu...</td>\n",
       "      <td>News</td>\n",
       "      <td>December 31, 2017</td>\n",
       "    </tr>\n",
       "    <tr>\n",
       "      <th>2</th>\n",
       "      <td>Sheriff David Clarke Becomes An Internet Joke...</td>\n",
       "      <td>On Friday, it was revealed that former Milwauk...</td>\n",
       "      <td>News</td>\n",
       "      <td>December 30, 2017</td>\n",
       "    </tr>\n",
       "    <tr>\n",
       "      <th>3</th>\n",
       "      <td>Trump Is So Obsessed He Even Has Obama’s Name...</td>\n",
       "      <td>On Christmas day, Donald Trump announced that ...</td>\n",
       "      <td>News</td>\n",
       "      <td>December 29, 2017</td>\n",
       "    </tr>\n",
       "    <tr>\n",
       "      <th>4</th>\n",
       "      <td>Pope Francis Just Called Out Donald Trump Dur...</td>\n",
       "      <td>Pope Francis used his annual Christmas Day mes...</td>\n",
       "      <td>News</td>\n",
       "      <td>December 25, 2017</td>\n",
       "    </tr>\n",
       "    <tr>\n",
       "      <th>...</th>\n",
       "      <td>...</td>\n",
       "      <td>...</td>\n",
       "      <td>...</td>\n",
       "      <td>...</td>\n",
       "    </tr>\n",
       "    <tr>\n",
       "      <th>23476</th>\n",
       "      <td>McPain: John McCain Furious That Iran Treated ...</td>\n",
       "      <td>21st Century Wire says As 21WIRE reported earl...</td>\n",
       "      <td>Middle-east</td>\n",
       "      <td>January 16, 2016</td>\n",
       "    </tr>\n",
       "    <tr>\n",
       "      <th>23477</th>\n",
       "      <td>JUSTICE? Yahoo Settles E-mail Privacy Class-ac...</td>\n",
       "      <td>21st Century Wire says It s a familiar theme. ...</td>\n",
       "      <td>Middle-east</td>\n",
       "      <td>January 16, 2016</td>\n",
       "    </tr>\n",
       "    <tr>\n",
       "      <th>23478</th>\n",
       "      <td>Sunnistan: US and Allied ‘Safe Zone’ Plan to T...</td>\n",
       "      <td>Patrick Henningsen  21st Century WireRemember ...</td>\n",
       "      <td>Middle-east</td>\n",
       "      <td>January 15, 2016</td>\n",
       "    </tr>\n",
       "    <tr>\n",
       "      <th>23479</th>\n",
       "      <td>How to Blow $700 Million: Al Jazeera America F...</td>\n",
       "      <td>21st Century Wire says Al Jazeera America will...</td>\n",
       "      <td>Middle-east</td>\n",
       "      <td>January 14, 2016</td>\n",
       "    </tr>\n",
       "    <tr>\n",
       "      <th>23480</th>\n",
       "      <td>10 U.S. Navy Sailors Held by Iranian Military ...</td>\n",
       "      <td>21st Century Wire says As 21WIRE predicted in ...</td>\n",
       "      <td>Middle-east</td>\n",
       "      <td>January 12, 2016</td>\n",
       "    </tr>\n",
       "  </tbody>\n",
       "</table>\n",
       "<p>23481 rows × 4 columns</p>\n",
       "</div>"
      ],
      "text/plain": [
       "                                                   title  \\\n",
       "0       Donald Trump Sends Out Embarrassing New Year’...   \n",
       "1       Drunk Bragging Trump Staffer Started Russian ...   \n",
       "2       Sheriff David Clarke Becomes An Internet Joke...   \n",
       "3       Trump Is So Obsessed He Even Has Obama’s Name...   \n",
       "4       Pope Francis Just Called Out Donald Trump Dur...   \n",
       "...                                                  ...   \n",
       "23476  McPain: John McCain Furious That Iran Treated ...   \n",
       "23477  JUSTICE? Yahoo Settles E-mail Privacy Class-ac...   \n",
       "23478  Sunnistan: US and Allied ‘Safe Zone’ Plan to T...   \n",
       "23479  How to Blow $700 Million: Al Jazeera America F...   \n",
       "23480  10 U.S. Navy Sailors Held by Iranian Military ...   \n",
       "\n",
       "                                                    text      subject  \\\n",
       "0      Donald Trump just couldn t wish all Americans ...         News   \n",
       "1      House Intelligence Committee Chairman Devin Nu...         News   \n",
       "2      On Friday, it was revealed that former Milwauk...         News   \n",
       "3      On Christmas day, Donald Trump announced that ...         News   \n",
       "4      Pope Francis used his annual Christmas Day mes...         News   \n",
       "...                                                  ...          ...   \n",
       "23476  21st Century Wire says As 21WIRE reported earl...  Middle-east   \n",
       "23477  21st Century Wire says It s a familiar theme. ...  Middle-east   \n",
       "23478  Patrick Henningsen  21st Century WireRemember ...  Middle-east   \n",
       "23479  21st Century Wire says Al Jazeera America will...  Middle-east   \n",
       "23480  21st Century Wire says As 21WIRE predicted in ...  Middle-east   \n",
       "\n",
       "                    date  \n",
       "0      December 31, 2017  \n",
       "1      December 31, 2017  \n",
       "2      December 30, 2017  \n",
       "3      December 29, 2017  \n",
       "4      December 25, 2017  \n",
       "...                  ...  \n",
       "23476   January 16, 2016  \n",
       "23477   January 16, 2016  \n",
       "23478   January 15, 2016  \n",
       "23479   January 14, 2016  \n",
       "23480   January 12, 2016  \n",
       "\n",
       "[23481 rows x 4 columns]"
      ]
     },
     "execution_count": 40,
     "metadata": {},
     "output_type": "execute_result"
    }
   ],
   "source": [
    "fake\n"
   ]
  },
  {
   "cell_type": "code",
   "execution_count": 41,
   "id": "0ab1626c-98f0-4718-b10e-ca66d6bc9872",
   "metadata": {},
   "outputs": [
    {
     "data": {
      "text/plain": [
       "title      0\n",
       "text       0\n",
       "subject    0\n",
       "date       0\n",
       "dtype: int64"
      ]
     },
     "execution_count": 41,
     "metadata": {},
     "output_type": "execute_result"
    }
   ],
   "source": [
    "# check for nulls in fake\n",
    "fake.isna().sum()"
   ]
  },
  {
   "cell_type": "code",
   "execution_count": 42,
   "id": "69355c7d-4bda-4630-82fd-b0abefeb9583",
   "metadata": {},
   "outputs": [
    {
     "data": {
      "text/plain": [
       "News               9050\n",
       "politics           6841\n",
       "left-news          4459\n",
       "Government News    1570\n",
       "US_News             783\n",
       "Middle-east         778\n",
       "Name: subject, dtype: int64"
      ]
     },
     "execution_count": 42,
     "metadata": {},
     "output_type": "execute_result"
    }
   ],
   "source": [
    "# count the subjects in fake\n",
    "fake['subject'].value_counts()"
   ]
  },
  {
   "cell_type": "code",
   "execution_count": 43,
   "id": "e560125b-396e-4b2b-bc98-89d8dbd2e493",
   "metadata": {},
   "outputs": [],
   "source": [
    "# create new columns in each to store the value of articles realness\n",
    "news['is_fake'] = 0 # contains only news\n",
    "fake['is_fake'] = 1 # contains only fakes"
   ]
  },
  {
   "cell_type": "code",
   "execution_count": 44,
   "id": "bbd64b93-ee8f-46db-b4d3-558f89114556",
   "metadata": {},
   "outputs": [],
   "source": [
    "# merge them into one file, reset index, and shuffle up the data\n",
    "data = pd.concat([news, fake])\n",
    "data = data.reset_index()"
   ]
  },
  {
   "cell_type": "code",
   "execution_count": 45,
   "id": "df355628-938b-49e1-961d-f6c2d962422f",
   "metadata": {},
   "outputs": [],
   "source": [
    "data = data.sample(frac=1)"
   ]
  },
  {
   "cell_type": "code",
   "execution_count": 46,
   "id": "86815d05-4ed5-4ef1-8fe4-9243f3dbba4a",
   "metadata": {},
   "outputs": [
    {
     "data": {
      "text/plain": [
       "0"
      ]
     },
     "execution_count": 46,
     "metadata": {},
     "output_type": "execute_result"
    }
   ],
   "source": [
    "# check for duplicates in new data df\n",
    "data.duplicated().sum()"
   ]
  },
  {
   "cell_type": "code",
   "execution_count": 47,
   "id": "8c792add-3976-4695-b410-b4f34fd35a65",
   "metadata": {},
   "outputs": [
    {
     "data": {
      "text/html": [
       "<div>\n",
       "<style scoped>\n",
       "    .dataframe tbody tr th:only-of-type {\n",
       "        vertical-align: middle;\n",
       "    }\n",
       "\n",
       "    .dataframe tbody tr th {\n",
       "        vertical-align: top;\n",
       "    }\n",
       "\n",
       "    .dataframe thead th {\n",
       "        text-align: right;\n",
       "    }\n",
       "</style>\n",
       "<table border=\"1\" class=\"dataframe\">\n",
       "  <thead>\n",
       "    <tr style=\"text-align: right;\">\n",
       "      <th></th>\n",
       "      <th>index</th>\n",
       "      <th>title</th>\n",
       "      <th>text</th>\n",
       "      <th>subject</th>\n",
       "      <th>date</th>\n",
       "      <th>is_fake</th>\n",
       "    </tr>\n",
       "  </thead>\n",
       "  <tbody>\n",
       "    <tr>\n",
       "      <th>11229</th>\n",
       "      <td>11229</td>\n",
       "      <td>California Governor Brown pushes big water pro...</td>\n",
       "      <td>SACRAMENTO, Calif. (Reuters) - California Gove...</td>\n",
       "      <td>politicsNews</td>\n",
       "      <td>January 14, 2016</td>\n",
       "      <td>0</td>\n",
       "    </tr>\n",
       "    <tr>\n",
       "      <th>14400</th>\n",
       "      <td>14400</td>\n",
       "      <td>Macron says not in French interests for German...</td>\n",
       "      <td>PARIS (Reuters) - President Emmanuel Macron sa...</td>\n",
       "      <td>worldnews</td>\n",
       "      <td>November 20, 2017</td>\n",
       "      <td>0</td>\n",
       "    </tr>\n",
       "    <tr>\n",
       "      <th>5681</th>\n",
       "      <td>5681</td>\n",
       "      <td>Trump administration reviewing Cuba policy: Wh...</td>\n",
       "      <td>WASHINGTON (Reuters) - The Trump administratio...</td>\n",
       "      <td>politicsNews</td>\n",
       "      <td>February 3, 2017</td>\n",
       "      <td>0</td>\n",
       "    </tr>\n",
       "    <tr>\n",
       "      <th>43483</th>\n",
       "      <td>22066</td>\n",
       "      <td>FBI Agent Indicted In Killing of Lavoy Finicum...</td>\n",
       "      <td>21st Century Wire says Back in January of 2016...</td>\n",
       "      <td>US_News</td>\n",
       "      <td>July 15, 2017</td>\n",
       "      <td>1</td>\n",
       "    </tr>\n",
       "    <tr>\n",
       "      <th>41636</th>\n",
       "      <td>20219</td>\n",
       "      <td>HILARIOUS! #BlackLivesMatter Protest Hillary A...</td>\n",
       "      <td>Pandering Hillary s getting a little karma Bla...</td>\n",
       "      <td>left-news</td>\n",
       "      <td>Jul 26, 2016</td>\n",
       "      <td>1</td>\n",
       "    </tr>\n",
       "  </tbody>\n",
       "</table>\n",
       "</div>"
      ],
      "text/plain": [
       "       index                                              title  \\\n",
       "11229  11229  California Governor Brown pushes big water pro...   \n",
       "14400  14400  Macron says not in French interests for German...   \n",
       "5681    5681  Trump administration reviewing Cuba policy: Wh...   \n",
       "43483  22066  FBI Agent Indicted In Killing of Lavoy Finicum...   \n",
       "41636  20219  HILARIOUS! #BlackLivesMatter Protest Hillary A...   \n",
       "\n",
       "                                                    text       subject  \\\n",
       "11229  SACRAMENTO, Calif. (Reuters) - California Gove...  politicsNews   \n",
       "14400  PARIS (Reuters) - President Emmanuel Macron sa...     worldnews   \n",
       "5681   WASHINGTON (Reuters) - The Trump administratio...  politicsNews   \n",
       "43483  21st Century Wire says Back in January of 2016...       US_News   \n",
       "41636  Pandering Hillary s getting a little karma Bla...     left-news   \n",
       "\n",
       "                     date  is_fake  \n",
       "11229   January 14, 2016         0  \n",
       "14400  November 20, 2017         0  \n",
       "5681    February 3, 2017         0  \n",
       "43483       July 15, 2017        1  \n",
       "41636        Jul 26, 2016        1  "
      ]
     },
     "execution_count": 47,
     "metadata": {},
     "output_type": "execute_result"
    }
   ],
   "source": [
    "data.head()"
   ]
  },
  {
   "cell_type": "code",
   "execution_count": 48,
   "id": "a33c3cdf-afa3-46ad-a3fd-cf222613a64e",
   "metadata": {},
   "outputs": [
    {
     "name": "stdout",
     "output_type": "stream",
     "text": [
      "<class 'pandas.core.frame.DataFrame'>\n",
      "Int64Index: 44898 entries, 11229 to 6559\n",
      "Data columns (total 6 columns):\n",
      " #   Column   Non-Null Count  Dtype \n",
      "---  ------   --------------  ----- \n",
      " 0   index    44898 non-null  int64 \n",
      " 1   title    44898 non-null  object\n",
      " 2   text     44898 non-null  object\n",
      " 3   subject  44898 non-null  object\n",
      " 4   date     44898 non-null  object\n",
      " 5   is_fake  44898 non-null  int64 \n",
      "dtypes: int64(2), object(4)\n",
      "memory usage: 2.4+ MB\n"
     ]
    }
   ],
   "source": [
    "data.info()"
   ]
  },
  {
   "cell_type": "code",
   "execution_count": 49,
   "id": "bb308264-e767-4c64-b37a-dbe7b52c15c7",
   "metadata": {},
   "outputs": [
    {
     "data": {
      "text/plain": [
       "politicsNews       11272\n",
       "worldnews          10145\n",
       "News                9050\n",
       "politics            6841\n",
       "left-news           4459\n",
       "Government News     1570\n",
       "US_News              783\n",
       "Middle-east          778\n",
       "Name: subject, dtype: int64"
      ]
     },
     "execution_count": 49,
     "metadata": {},
     "output_type": "execute_result"
    }
   ],
   "source": [
    "data['subject'].value_counts()"
   ]
  },
  {
   "cell_type": "code",
   "execution_count": 50,
   "id": "2aa0d46e-e068-497e-903d-69379810b592",
   "metadata": {},
   "outputs": [
    {
     "data": {
      "text/plain": [
       "'December 31, 2017 '"
      ]
     },
     "execution_count": 50,
     "metadata": {},
     "output_type": "execute_result"
    }
   ],
   "source": [
    "data['date'][0]"
   ]
  },
  {
   "cell_type": "code",
   "execution_count": 51,
   "id": "25a0b7e2-e710-473b-bb50-35d91b041356",
   "metadata": {},
   "outputs": [],
   "source": [
    "# recast date to datetime format \n",
    "# data['date'] = pd.to_datetime(data['date'], format = '%B%d%Y')\n",
    "# data.info()"
   ]
  },
  {
   "cell_type": "code",
   "execution_count": 52,
   "id": "c30b1fa6-d66f-4ccc-a2b7-40344996cb14",
   "metadata": {},
   "outputs": [
    {
     "data": {
      "text/plain": [
       "33952    Nov 1, 2016\n",
       "41114    Nov 1, 2016\n",
       "41117    Nov 1, 2016\n",
       "33954    Nov 1, 2016\n",
       "41112    Nov 1, 2016\n",
       "41115    Nov 1, 2016\n",
       "33957    Nov 1, 2016\n",
       "41116    Nov 1, 2016\n",
       "37747    Nov 1, 2016\n",
       "33956    Nov 1, 2016\n",
       "37748    Nov 1, 2016\n",
       "33955    Nov 1, 2016\n",
       "41111    Nov 1, 2016\n",
       "33951    Nov 1, 2016\n",
       "33953    Nov 1, 2016\n",
       "41113    Nov 1, 2016\n",
       "33960    Nov 1, 2016\n",
       "33961    Nov 1, 2016\n",
       "41119    Nov 1, 2016\n",
       "41118    Nov 1, 2016\n",
       "33950    Nov 1, 2016\n",
       "33959    Nov 1, 2016\n",
       "33958    Nov 1, 2016\n",
       "Name: date, dtype: object"
      ]
     },
     "execution_count": 52,
     "metadata": {},
     "output_type": "execute_result"
    }
   ],
   "source": [
    "data['date'].loc[(data['date'] == 'Nov 1, 2016')]"
   ]
  },
  {
   "cell_type": "code",
   "execution_count": 53,
   "id": "5cd926ec-1452-4b74-a110-db9438504156",
   "metadata": {},
   "outputs": [],
   "source": [
    "# data.to_csv (r'C:\\Users\\13195\\OneDrive\\Desktop\\Final Project\\Final-Project\\export_dataframe.csv', header=True)"
   ]
  },
  {
   "cell_type": "code",
   "execution_count": 54,
   "id": "3b3f871c-60b1-49d8-8d95-7b65c4b1c677",
   "metadata": {},
   "outputs": [
    {
     "data": {
      "text/html": [
       "<div>\n",
       "<style scoped>\n",
       "    .dataframe tbody tr th:only-of-type {\n",
       "        vertical-align: middle;\n",
       "    }\n",
       "\n",
       "    .dataframe tbody tr th {\n",
       "        vertical-align: top;\n",
       "    }\n",
       "\n",
       "    .dataframe thead th {\n",
       "        text-align: right;\n",
       "    }\n",
       "</style>\n",
       "<table border=\"1\" class=\"dataframe\">\n",
       "  <thead>\n",
       "    <tr style=\"text-align: right;\">\n",
       "      <th></th>\n",
       "      <th>title</th>\n",
       "      <th>text</th>\n",
       "      <th>is_fake</th>\n",
       "    </tr>\n",
       "  </thead>\n",
       "  <tbody>\n",
       "    <tr>\n",
       "      <th>11229</th>\n",
       "      <td>California Governor Brown pushes big water pro...</td>\n",
       "      <td>SACRAMENTO, Calif. (Reuters) - California Gove...</td>\n",
       "      <td>0</td>\n",
       "    </tr>\n",
       "    <tr>\n",
       "      <th>14400</th>\n",
       "      <td>Macron says not in French interests for German...</td>\n",
       "      <td>PARIS (Reuters) - President Emmanuel Macron sa...</td>\n",
       "      <td>0</td>\n",
       "    </tr>\n",
       "    <tr>\n",
       "      <th>5681</th>\n",
       "      <td>Trump administration reviewing Cuba policy: Wh...</td>\n",
       "      <td>WASHINGTON (Reuters) - The Trump administratio...</td>\n",
       "      <td>0</td>\n",
       "    </tr>\n",
       "    <tr>\n",
       "      <th>43483</th>\n",
       "      <td>FBI Agent Indicted In Killing of Lavoy Finicum...</td>\n",
       "      <td>21st Century Wire says Back in January of 2016...</td>\n",
       "      <td>1</td>\n",
       "    </tr>\n",
       "    <tr>\n",
       "      <th>41636</th>\n",
       "      <td>HILARIOUS! #BlackLivesMatter Protest Hillary A...</td>\n",
       "      <td>Pandering Hillary s getting a little karma Bla...</td>\n",
       "      <td>1</td>\n",
       "    </tr>\n",
       "  </tbody>\n",
       "</table>\n",
       "</div>"
      ],
      "text/plain": [
       "                                                   title  \\\n",
       "11229  California Governor Brown pushes big water pro...   \n",
       "14400  Macron says not in French interests for German...   \n",
       "5681   Trump administration reviewing Cuba policy: Wh...   \n",
       "43483  FBI Agent Indicted In Killing of Lavoy Finicum...   \n",
       "41636  HILARIOUS! #BlackLivesMatter Protest Hillary A...   \n",
       "\n",
       "                                                    text  is_fake  \n",
       "11229  SACRAMENTO, Calif. (Reuters) - California Gove...        0  \n",
       "14400  PARIS (Reuters) - President Emmanuel Macron sa...        0  \n",
       "5681   WASHINGTON (Reuters) - The Trump administratio...        0  \n",
       "43483  21st Century Wire says Back in January of 2016...        1  \n",
       "41636  Pandering Hillary s getting a little karma Bla...        1  "
      ]
     },
     "execution_count": 54,
     "metadata": {},
     "output_type": "execute_result"
    }
   ],
   "source": [
    "nodate_data = data.drop(['date', 'index', 'subject'], axis = 1)\n",
    "nodate_data.reset_index(drop = True)\n",
    "nodate_data.head()"
   ]
  },
  {
   "cell_type": "code",
   "execution_count": 55,
   "id": "556a0fd4-e12b-49e4-9b7b-3764e1ea180b",
   "metadata": {},
   "outputs": [],
   "source": [
    "# nodate_data.to_csv (r'C:\\Users\\13195\\OneDrive\\Desktop\\Final Project\\Final-Project\\export_dataframe.csv', header=True)"
   ]
  },
  {
   "cell_type": "code",
   "execution_count": 56,
   "id": "4019db70-f49e-4ee9-97f6-8d0d0fa5e8a7",
   "metadata": {},
   "outputs": [
    {
     "data": {
      "text/plain": [
       "array([[<AxesSubplot:title={'center':'is_fake'}>]], dtype=object)"
      ]
     },
     "execution_count": 56,
     "metadata": {},
     "output_type": "execute_result"
    },
    {
     "data": {
      "image/png": "[encoded data removed]",
      "text/plain": [
       "<Figure size 432x288 with 1 Axes>"
      ]
     },
     "metadata": {
      "needs_background": "light"
     },
     "output_type": "display_data"
    }
   ],
   "source": [
    "nodate_data.hist()"
   ]
  },
  {
   "cell_type": "code",
   "execution_count": 57,
   "id": "0065b765-b3e7-44c4-a3b5-8160c3ba6dd6",
   "metadata": {},
   "outputs": [
    {
     "data": {
      "text/html": [
       "<div>\n",
       "<style scoped>\n",
       "    .dataframe tbody tr th:only-of-type {\n",
       "        vertical-align: middle;\n",
       "    }\n",
       "\n",
       "    .dataframe tbody tr th {\n",
       "        vertical-align: top;\n",
       "    }\n",
       "\n",
       "    .dataframe thead th {\n",
       "        text-align: right;\n",
       "    }\n",
       "</style>\n",
       "<table border=\"1\" class=\"dataframe\">\n",
       "  <thead>\n",
       "    <tr style=\"text-align: right;\">\n",
       "      <th></th>\n",
       "      <th>title</th>\n",
       "      <th>text</th>\n",
       "      <th>is_fake</th>\n",
       "    </tr>\n",
       "  </thead>\n",
       "  <tbody>\n",
       "    <tr>\n",
       "      <th>11229</th>\n",
       "      <td>California Governor Brown pushes big water pro...</td>\n",
       "      <td>SACRAMENTO, Calif. (Reuters) - California Gove...</td>\n",
       "      <td>0</td>\n",
       "    </tr>\n",
       "    <tr>\n",
       "      <th>14400</th>\n",
       "      <td>Macron says not in French interests for German...</td>\n",
       "      <td>PARIS (Reuters) - President Emmanuel Macron sa...</td>\n",
       "      <td>0</td>\n",
       "    </tr>\n",
       "    <tr>\n",
       "      <th>5681</th>\n",
       "      <td>Trump administration reviewing Cuba policy: Wh...</td>\n",
       "      <td>WASHINGTON (Reuters) - The Trump administratio...</td>\n",
       "      <td>0</td>\n",
       "    </tr>\n",
       "    <tr>\n",
       "      <th>43483</th>\n",
       "      <td>FBI Agent Indicted In Killing of Lavoy Finicum...</td>\n",
       "      <td>21st Century Wire says Back in January of 2016...</td>\n",
       "      <td>1</td>\n",
       "    </tr>\n",
       "    <tr>\n",
       "      <th>41636</th>\n",
       "      <td>HILARIOUS! #BlackLivesMatter Protest Hillary A...</td>\n",
       "      <td>Pandering Hillary s getting a little karma Bla...</td>\n",
       "      <td>1</td>\n",
       "    </tr>\n",
       "  </tbody>\n",
       "</table>\n",
       "</div>"
      ],
      "text/plain": [
       "                                                   title  \\\n",
       "11229  California Governor Brown pushes big water pro...   \n",
       "14400  Macron says not in French interests for German...   \n",
       "5681   Trump administration reviewing Cuba policy: Wh...   \n",
       "43483  FBI Agent Indicted In Killing of Lavoy Finicum...   \n",
       "41636  HILARIOUS! #BlackLivesMatter Protest Hillary A...   \n",
       "\n",
       "                                                    text  is_fake  \n",
       "11229  SACRAMENTO, Calif. (Reuters) - California Gove...        0  \n",
       "14400  PARIS (Reuters) - President Emmanuel Macron sa...        0  \n",
       "5681   WASHINGTON (Reuters) - The Trump administratio...        0  \n",
       "43483  21st Century Wire says Back in January of 2016...        1  \n",
       "41636  Pandering Hillary s getting a little karma Bla...        1  "
      ]
     },
     "execution_count": 57,
     "metadata": {},
     "output_type": "execute_result"
    }
   ],
   "source": [
    "subdata = nodate_data[0:5000]\n",
    "subdata.head()"
   ]
  },
  {
   "cell_type": "code",
   "execution_count": 58,
   "id": "f0f46a13-28ae-4ae6-bc55-5b612305ebea",
   "metadata": {},
   "outputs": [
    {
     "data": {
      "text/plain": [
       "array(['California Governor Brown pushes big water project amid drought',\n",
       "       'SACRAMENTO, Calif. (Reuters) - California Governor Jerry Brown warned on Thursday of near-apocalyptic water shortages if his $15 billion plan to divert water from a Northern California river for use elsewhere gets bogged down in political and environmental disputes. The plan to remove water north of the Sacramento-San Joaquin River Delta, the fragile source of much of the state’s drinking water, is opposed by many environmentalists, but Brown insisted it was crucial in shoring up water supplies in the drought-plagued state.  “If we don’t have the project, the delta will fail, water will not be available and\\xa0California will suffer devastating economic consequences,” Brown, a Democrat, told a meeting of water regulators and utility executives in Sacramento to discuss the state’s progress in stabilizing its water system. The plan calls for digging a pair of tunnels under the delta. They would carry water from the Sacramento River to the state’s agricultural breadbasket as well as cities in the central and southern parts of America’s most populous state. The governor’s proposal, which must go through an environmental review and permitting process, has reignited California’s century-old water wars, sparked when Los Angeles siphoned water from the Owens Valley north of the city to slake the thirst of the growing Southern California metropolis.   Opponents have said the plan will imperil salmon, trout and the endangered delta smelt, damage the delta’s role as a center for water recreation and sport fishing, and could ultimately reduce the availability of drinking water for Northern California cities. Brown, who has backing from labor, utilities, moderate Democrats and many Republicans, has said the project will protect the delta while ensuring an adequate water supply. But opponents said the project would harm the ecosystem. “How will the delta ever recover if freshwaters are never allowed to flow through it, even in rainy seasons,” said Barbara Barrigan-Parrilla, director of the Restore the Delta group. Backers estimate construction would take at least 10 years after the necessary approvals are received, barring lawsuits and other actions to try to slow the project.   '],\n",
       "      dtype=object)"
      ]
     },
     "execution_count": 58,
     "metadata": {},
     "output_type": "execute_result"
    }
   ],
   "source": [
    "X = subdata.iloc[:, :-1].values\n",
    "X[0]"
   ]
  },
  {
   "cell_type": "code",
   "execution_count": 59,
   "id": "37e2c8c0-1d8b-4ef1-afe8-52943782b494",
   "metadata": {},
   "outputs": [
    {
     "data": {
      "text/plain": [
       "0"
      ]
     },
     "execution_count": 59,
     "metadata": {},
     "output_type": "execute_result"
    }
   ],
   "source": [
    "y = subdata.iloc[:,-1].values\n",
    "y[0]"
   ]
  },
  {
   "cell_type": "code",
   "execution_count": 60,
   "id": "6c357766-1041-4cae-a4e8-402e380eab24",
   "metadata": {},
   "outputs": [],
   "source": [
    "from sklearn.feature_extraction.text import CountVectorizer\n",
    "cv = CountVectorizer(max_features=10000)\n",
    "mat_body = cv.fit_transform(X[:,1]).todense()"
   ]
  },
  {
   "cell_type": "code",
   "execution_count": 61,
   "id": "2ad38d69-63f1-41c7-84f4-941f4f36d3b5",
   "metadata": {},
   "outputs": [
    {
     "data": {
      "text/plain": [
       "matrix([[0, 0, 0, ..., 0, 0, 0],\n",
       "        [0, 0, 0, ..., 0, 0, 0],\n",
       "        [0, 0, 0, ..., 0, 0, 0],\n",
       "        ...,\n",
       "        [0, 0, 0, ..., 0, 0, 0],\n",
       "        [0, 0, 0, ..., 0, 0, 0],\n",
       "        [0, 0, 0, ..., 0, 0, 0]], dtype=int64)"
      ]
     },
     "execution_count": 61,
     "metadata": {},
     "output_type": "execute_result"
    }
   ],
   "source": [
    "mat_body"
   ]
  },
  {
   "cell_type": "code",
   "execution_count": 62,
   "id": "8899f2d8-e6f6-4b0f-9d99-997924d44c27",
   "metadata": {},
   "outputs": [],
   "source": [
    "cv_head = CountVectorizer(max_features=10000)\n",
    "mat_head = cv_head.fit_transform(X[:,0]).todense()"
   ]
  },
  {
   "cell_type": "code",
   "execution_count": 63,
   "id": "80f173bc-0731-489e-94f3-564225e2d03f",
   "metadata": {},
   "outputs": [
    {
     "data": {
      "text/plain": [
       "matrix([[0, 0, 0, ..., 0, 0, 0],\n",
       "        [0, 0, 0, ..., 0, 0, 0],\n",
       "        [0, 0, 0, ..., 0, 0, 0],\n",
       "        ...,\n",
       "        [0, 0, 0, ..., 0, 0, 0],\n",
       "        [0, 0, 0, ..., 0, 0, 0],\n",
       "        [0, 0, 0, ..., 0, 0, 0]], dtype=int64)"
      ]
     },
     "execution_count": 63,
     "metadata": {},
     "output_type": "execute_result"
    }
   ],
   "source": [
    "mat_head"
   ]
  },
  {
   "cell_type": "code",
   "execution_count": 64,
   "id": "5cdd8f4f-430d-40af-b738-90197911e2ba",
   "metadata": {},
   "outputs": [],
   "source": [
    "X_mat = np.hstack(( mat_head, mat_body))"
   ]
  },
  {
   "cell_type": "code",
   "execution_count": 65,
   "id": "9aa87ddb-7b99-44ca-b94a-81d4e8544ed8",
   "metadata": {},
   "outputs": [],
   "source": [
    "from sklearn.model_selection import train_test_split\n",
    "X_train, X_test, y_train, y_test = train_test_split(X_mat,y, test_size=0.2, random_state=42)"
   ]
  },
  {
   "cell_type": "code",
   "execution_count": 66,
   "id": "0c5b7254-2320-45c7-9d04-7e45124f2b94",
   "metadata": {},
   "outputs": [],
   "source": [
    "from sklearn.tree import DecisionTreeClassifier\n",
    "dtc = DecisionTreeClassifier(criterion='entropy')\n",
    "dtc.fit(X_train, y_train)\n",
    "y_pred = dtc.predict(X_test)"
   ]
  },
  {
   "cell_type": "code",
   "execution_count": 67,
   "id": "1b8bf958-d620-4282-a387-aa7c06a043cf",
   "metadata": {},
   "outputs": [
    {
     "data": {
      "text/plain": [
       "array([[485,   3],\n",
       "       [  5, 507]], dtype=int64)"
      ]
     },
     "execution_count": 67,
     "metadata": {},
     "output_type": "execute_result"
    }
   ],
   "source": [
    "from sklearn.metrics import confusion_matrix\n",
    "confusion_matrix(y_test, y_pred)"
   ]
  },
  {
   "cell_type": "code",
   "execution_count": 68,
   "id": "a35ea226-2c51-4b05-ad95-7dcd51f6e3bc",
   "metadata": {},
   "outputs": [
    {
     "data": {
      "text/plain": [
       "0.992"
      ]
     },
     "execution_count": 68,
     "metadata": {},
     "output_type": "execute_result"
    }
   ],
   "source": [
    "(485+507)/(485+3+5+507)"
   ]
  },
  {
   "cell_type": "code",
   "execution_count": 37,
   "id": "c0174b9d-fc87-4cf4-95e4-38a539cbb29a",
   "metadata": {},
   "outputs": [],
   "source": []
  },
  {
   "cell_type": "code",
   "execution_count": 38,
   "id": "5bce797e-02c4-4551-ab51-817010baec84",
   "metadata": {},
   "outputs": [],
   "source": []
  },
  {
   "cell_type": "code",
   "execution_count": 39,
   "id": "3dbb7488-aff9-49f0-9d5c-17996b2a05ba",
   "metadata": {},
   "outputs": [],
   "source": []
  },
  {
   "cell_type": "code",
   "execution_count": null,
   "id": "941ae4d5-f653-451b-a99c-7a296e310472",
   "metadata": {},
   "outputs": [],
   "source": []
  },
  {
   "cell_type": "code",
   "execution_count": null,
   "id": "fe88053e-eaaa-45e2-89f3-9efda54c55a8",
   "metadata": {},
   "outputs": [],
   "source": []
  },
  {
   "cell_type": "code",
   "execution_count": 40,
   "id": "7e70b158-bb8f-4620-b26a-1d9ee93ea6e6",
   "metadata": {},
   "outputs": [],
   "source": []
  },
  {
   "cell_type": "code",
   "execution_count": null,
   "id": "485a3569-d91f-487f-96b4-af1610579260",
   "metadata": {},
   "outputs": [],
   "source": []
  },
  {
   "cell_type": "code",
   "execution_count": null,
   "id": "2af73688-8fed-43d3-aa16-7176517ce8c2",
   "metadata": {},
   "outputs": [],
   "source": []
  },
  {
   "cell_type": "code",
   "execution_count": null,
   "id": "db6d6cc9-f1de-49b6-b220-6bdfc820ab1d",
   "metadata": {},
   "outputs": [],
   "source": []
  },
  {
   "cell_type": "code",
   "execution_count": null,
   "id": "62f95d4c-e5ce-4fd1-a4c4-8a54952cc230",
   "metadata": {},
   "outputs": [],
   "source": []
  }
 ],
 "metadata": {
  "kernelspec": {
   "display_name": "PythonData",
   "language": "python",
   "name": "pythondata"
  },
  "language_info": {
   "codemirror_mode": {
    "name": "ipython",
    "version": 3
   },
   "file_extension": ".py",
   "mimetype": "text/x-python",
   "name": "python",
   "nbconvert_exporter": "python",
   "pygments_lexer": "ipython3",
   "version": "3.6.13"
  }
 },
 "nbformat": 4,
 "nbformat_minor": 5
}
